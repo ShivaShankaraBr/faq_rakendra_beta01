{
  "nbformat": 4,
  "nbformat_minor": 0,
  "metadata": {
    "colab": {
      "provenance": [],
      "authorship_tag": "ABX9TyO8MyQ58K0wQ6Kz7DSeXGMw",
      "include_colab_link": true
    },
    "kernelspec": {
      "name": "python3",
      "display_name": "Python 3"
    },
    "language_info": {
      "name": "python"
    }
  },
  "cells": [
    {
      "cell_type": "markdown",
      "metadata": {
        "id": "view-in-github",
        "colab_type": "text"
      },
      "source": [
        "<a href=\"https://colab.research.google.com/github/ShivaShankaraBr/faq_rakendra_beta01/blob/main/projeto_rakendra.ipynb\" target=\"_parent\"><img src=\"https://colab.research.google.com/assets/colab-badge.svg\" alt=\"Open In Colab\"/></a>"
      ]
    },
    {
      "cell_type": "markdown",
      "source": [],
      "metadata": {
        "id": "2o-SO8zHAYXV"
      }
    },
    {
      "cell_type": "code",
      "source": [
        "%pip -q install google-genai"
      ],
      "metadata": {
        "id": "arOfLDX2BkYU"
      },
      "execution_count": 34,
      "outputs": []
    },
    {
      "cell_type": "code",
      "source": [
        "import os\n",
        "from google.colab import userdata\n",
        "os.environ[\"GOOGLE_API_KEY\"] = userdata.get('GOOGLE_API_KEY')"
      ],
      "metadata": {
        "id": "Dxi1m232Bomw"
      },
      "execution_count": 35,
      "outputs": []
    },
    {
      "cell_type": "code",
      "source": [
        "from google import genai\n",
        "client = genai.Client()\n",
        "MODEL_ID = \"gemini-2.0-flash\"  # Usando gemini-2.0-flash em todos os agentes"
      ],
      "metadata": {
        "id": "m47LbpZjBsKi"
      },
      "execution_count": 36,
      "outputs": []
    },
    {
      "cell_type": "code",
      "source": [
        "!pip install -q google-adk\n",
        "from IPython.display import HTML, Markdown\n",
        "from google.adk.agents import Agent\n",
        "from google.adk.runners import Runner\n",
        "from google.adk.sessions import InMemorySessionService\n",
        "from google.adk.tools import google_search\n",
        "from google.genai import types\n",
        "from datetime import date\n",
        "import textwrap\n",
        "import warnings\n",
        "warnings.filterwarnings(\"ignore\")\n",
        "\n",
        "# Função auxiliar que envia uma mensagem para um agente via Runner e retorna a resposta final\n",
        "def call_agent(agent: Agent, message_text: str) -> str:\n",
        "    session_service = InMemorySessionService()\n",
        "    session = session_service.create_session(app_name=agent.name, user_id=\"user1\", session_id=\"session1\")\n",
        "    runner = Runner(agent=agent, app_name=agent.name, session_service=session_service)\n",
        "    content = types.Content(role=\"user\", parts=[types.Part(text=message_text)])\n",
        "    final_response = \"\"\n",
        "    for event in runner.run(user_id=\"user1\", session_id=\"session1\", new_message=content):\n",
        "        if event.is_final_response():\n",
        "            for part in event.content.parts:\n",
        "                if part.text is not None:\n",
        "                    final_response += part.text\n",
        "                    final_response += \"\\n\"\n",
        "    return final_response\n",
        "\n",
        "# Função auxiliar para exibir texto formatado em Markdown no Colab\n",
        "def to_markdown(text):\n",
        "    text = text.replace('•', '  *')\n",
        "    return Markdown(textwrap.indent(text, '> ', predicate=lambda _: True))"
      ],
      "metadata": {
        "id": "G2mdfEZlByDh"
      },
      "execution_count": 37,
      "outputs": []
    },
    {
      "cell_type": "code",
      "source": [
        "##########################################\n",
        "# --- Agente 1: Buscador de FAQs --- #\n",
        "##########################################\n",
        "def agente_buscador(pergunta): # Renomeado 'topico' para 'pergunta' para maior clareza\n",
        "\n",
        "    buscador = Agent(\n",
        "        name=\"agente_buscador\",\n",
        "        model=MODEL_ID,  # Usando gemini-2.0-flash\n",
        "        instruction=\"\"\"\n",
        "        Você é um assistente de pesquisa especializado em encontrar respostas para perguntas frequentes sobre xamanismo e plantas de poder.\n",
        "        A sua tarefa é usar a ferramenta de busca do Google (google_search) para encontrar informações relevantes e confiáveis que respondam à pergunta do usuário.\n",
        "        Priorize fontes como:\n",
        "        -   Sites de instituições de pesquisa (e.g., universidades, centros de estudos)\n",
        "        -   Artigos científicos introdutórios ou revisões (se acessíveis)\n",
        "        -   Sites de organizações reconhecidas na área de saúde ou estudos religiosos\n",
        "        -   Sites de especialistas renomados no campo do xamanismo (com credenciais verificáveis)\n",
        "        Evite fontes como:\n",
        "        -   Blogs pessoais sem credenciais claras\n",
        "        -   Fóruns de discussão\n",
        "        -   Sites de venda de produtos\n",
        "        -   Fontes sensacionalistas ou com informações não verificadas\n",
        "        Se a pergunta envolver plantas de poder, busque informações sobre seus usos tradicionais, composição química básica,\n",
        "        efeitos conhecidos e potenciais riscos, sempre com foco em fontes confiáveis.\n",
        "        Limite a busca a no máximo 5 resultados relevantes.\n",
        "        \"\"\",\n",
        "        description=\"Agente que busca informações no Google para responder a perguntas frequentes.\",\n",
        "        tools=[google_search]\n",
        "    )\n",
        "\n",
        "    entrada_do_agente_buscador = f\"Pergunta: {pergunta}\" # Modificado para usar 'pergunta'\n",
        "    resultados_da_busca = call_agent(buscador, entrada_do_agente_buscador)\n",
        "    return resultados_da_busca"
      ],
      "metadata": {
        "id": "FTXhNRrNB5uG"
      },
      "execution_count": 38,
      "outputs": []
    },
    {
      "cell_type": "code",
      "source": [
        "################################################\n",
        "# --- Agente 2: Planejador de Posts de FAQ --- #\n",
        "################################################\n",
        "def agente_planejador(pergunta, resultados_da_busca): # Adicionado resultados da busca como entrada\n",
        "    planejador = Agent(\n",
        "        name=\"agente_planejador\",\n",
        "        model=MODEL_ID,  # Usando gemini-2.0-flash\n",
        "        instruction=\"\"\"\n",
        "        Você é um planejador de conteúdo para redes sociais, especializado em criar posts informativos e envolventes a partir de informações encontradas na web.\n",
        "        A sua tarefa é analisar os resultados da busca fornecidos para responder à pergunta do usuário e criar um plano para um post de Instagram.\n",
        "        O plano deve conter os seguintes elementos:\n",
        "        -   Pergunta: A pergunta original do usuário, para ser incluída no início do post.\n",
        "        -   Resposta Concisa: Um resumo claro e direto da resposta à pergunta, baseado nas informações mais relevantes e confiáveis encontradas na busca.\n",
        "        -   Pontos Principais: Uma lista dos 3 a 5 pontos mais importantes da resposta, que devem ser destacados no post.\n",
        "        -   Linguagem: Sugestões de linguagem acessível e envolvente para o público do Instagram, evitando jargões técnicos.\n",
        "        -   Recursos Visuais Sugeridos: Ideias para elementos visuais que poderiam acompanhar o post (lembre-se que não podemos gerar imagens, são apenas sugestões).\n",
        "        -   Hashtags: Sugestões de 3 a 5 hashtags relevantes para o tema do post.\n",
        "        \"\"\",\n",
        "        description=\"Agente que planeja posts de Instagram informativos a partir de resultados de busca.\",\n",
        "        tools=[]  # Este agente não usa ferramentas\n",
        "    )\n",
        "\n",
        "    entrada_do_agente_planejador = f\"Pergunta: {pergunta}\\nResultados da busca: {resultados_da_busca}\" # Passa a pergunta e os resultados\n",
        "    plano_do_post = call_agent(planejador, entrada_do_agente_planejador)\n",
        "    return plano_do_post"
      ],
      "metadata": {
        "id": "bVeY1aoYB_pa"
      },
      "execution_count": 39,
      "outputs": []
    },
    {
      "cell_type": "code",
      "source": [
        "######################################\n",
        "# --- Agente 3: Redator do Post de FAQ --- #\n",
        "######################################\n",
        "def agente_redator(pergunta, plano_de_post): # Adicionado pergunta como entrada\n",
        "    redator = Agent(\n",
        "        name=\"agente_redator\",\n",
        "        model=MODEL_ID,  # Usando gemini-2.0-flash\n",
        "        instruction=\"\"\"\n",
        "        Você é um redator de conteúdo para redes sociais, especializado em criar posts informativos e envolventes para o Instagram.\n",
        "        A sua tarefa é escrever um post para o Instagram que responda à pergunta do usuário, utilizando o plano de post fornecido.\n",
        "        O post deve seguir as seguintes diretrizes:\n",
        "        -   Começar com a pergunta do usuário de forma clara e direta.\n",
        "        -   Apresentar a resposta de forma concisa e acessível, usando linguagem adequada para o público do Instagram (jovens adultos).\n",
        "        -   Destacar os pontos principais da resposta, utilizando recursos como parágrafos curtos, listas ou emojis (se apropriado).\n",
        "        -   Incluir um breve contexto sobre a Rakendra e sua perspectiva sobre o tema, se relevante e apropriado.\n",
        "        -   Finalizar o post com um convite para seguir a página da Rakendra para mais informações e para participar de eventos (se aplicável).\n",
        "        -   Incluir as hashtags sugeridas no plano de post.\n",
        "        \"\"\",\n",
        "        description=\"Agente redator de posts de Instagram informativos e envolventes.\"\n",
        "    )\n",
        "    entrada_do_agente_redator = f\"Pergunta: {pergunta}\\nPlano de post: {plano_de_post}\" # Passa a pergunta para o redator\n",
        "    rascunho_do_post = call_agent(redator, entrada_do_agente_redator)\n",
        "    return rascunho_do_post"
      ],
      "metadata": {
        "id": "XxsXNhelCD69"
      },
      "execution_count": 40,
      "outputs": []
    },
    {
      "cell_type": "code",
      "source": [
        "##########################################\n",
        "# --- Agente 4: Revisor de Qualidade de FAQ --- #\n",
        "##########################################\n",
        "def agente_revisor(pergunta, rascunho_do_post): # Adicionado pergunta\n",
        "    revisor = Agent(\n",
        "        name=\"agente_revisor\",\n",
        "        model=MODEL_ID,  # Usando gemini-2.0-flash\n",
        "        instruction=\"\"\"\n",
        "        Você é um editor e revisor de conteúdo para redes sociais, com foco em posts informativos para o Instagram.\n",
        "        A sua tarefa é revisar o rascunho do post fornecido, verificando os seguintes aspectos:\n",
        "        -   Clareza: A resposta à pergunta é clara e fácil de entender para o público do Instagram?\n",
        "        -   Precisão: A resposta está correta e alinhada com as informações encontradas na busca na web?\n",
        "        -   Tom: O tom do post é adequado para o público do Instagram (jovens adultos) e para o tema (xamanismo, plantas de poder)?\n",
        "        -   Linguagem: A linguagem é acessível, envolvente e livre de erros gramaticais e ortográficos?\n",
        "        -   Formatação: O post está bem formatado, com parágrafos curtos, listas ou emojis (se apropriado)?\n",
        "        -   Alinhamento com a Rakendra: O post apresenta a perspectiva da Rakendra sobre o tema de forma adequada e respeitosa?\n",
        "        -   Inclusão de Hashtags: As hashtags sugeridas estão incluídas e são relevantes?\n",
        "        Se o rascunho estiver bom, responda apenas 'O rascunho está ótimo e pronto para publicar!'.\n",
        "        Caso haja problemas, aponte-os e sugira melhorias específicas.\n",
        "        \"\"\",\n",
        "        description=\"Agente revisor de posts de Instagram informativos.\"\n",
        "    )\n",
        "    entrada_do_agente_revisor = f\"Pergunta: {pergunta}\\nRascunho do post: {rascunho_do_post}\" # Passa a pergunta\n",
        "    texto_revisado = call_agent(revisor, entrada_do_agente_revisor)\n",
        "    return texto_revisado"
      ],
      "metadata": {
        "id": "lcM1bGwtCJ7n"
      },
      "execution_count": 41,
      "outputs": []
    },
    {
      "cell_type": "code",
      "source": [
        "def main():\n",
        "    data_de_hoje = date.today().strftime(\"%d/%m/%Y\")\n",
        "    print(\"🚀 Iniciando o Sistema de Criação de Posts de FAQ para Instagram com 4 Agentes 🚀\")\n",
        "\n",
        "    # --- Obter a Pergunta do Usuário ---\n",
        "    pergunta = input(\"❓ Por favor, digite a PERGUNTA sobre xamanismo ou plantas de poder que você deseja responder no post: \")\n",
        "\n",
        "    # --- Lógica do sistema de agentes ---\n",
        "    if not pergunta:\n",
        "        print(\"Você esqueceu de digitar a pergunta!\")\n",
        "    else:\n",
        "        print(f\"Maravilha! Vamos criar um post para responder à pergunta: {pergunta}\")\n",
        "\n",
        "        resultados_da_busca = agente_buscador(pergunta)\n",
        "        print(\"\\n--- 🔍 Resultado do Agente 1 (Buscador) ---\\n\")\n",
        "        display(to_markdown(resultados_da_busca))\n",
        "        print(\"--------------------------------------------------------------\")\n",
        "\n",
        "        plano_do_post = agente_planejador(pergunta, resultados_da_busca)\n",
        "        print(\"\\n--- 📝 Resultado do Agente 2 (Planejador) ---\\n\")\n",
        "        display(to_markdown(plano_do_post))\n",
        "        print(\"--------------------------------------------------------------\")\n",
        "\n",
        "        rascunho_do_post = agente_redator(pergunta, plano_do_post)\n",
        "        print(\"\\n--- ✍️ Resultado do Agente 3 (Redator) ---\\n\")\n",
        "        display(to_markdown(rascunho_do_post))\n",
        "        print(\"--------------------------------------------------------------\")\n",
        "\n",
        "        post_final = agente_revisor(pergunta, rascunho_do_post)\n",
        "        print(\"\\n--- ✅ Resultado do Agente 4 (Revisor) ---\\n\")\n",
        "        display(to_markdown(post_final))\n",
        "        print(\"--------------------------------------------------------------\")\n"
      ],
      "metadata": {
        "id": "YfBj91eZCPrT"
      },
      "execution_count": 42,
      "outputs": []
    },
    {
      "cell_type": "code",
      "source": [
        "if __name__ == \"__main__\":\n",
        "    main()\n"
      ],
      "metadata": {
        "colab": {
          "base_uri": "https://localhost:8080/"
        },
        "id": "MxA9t1IgCV3Y",
        "outputId": "d650a9b4-f73d-4f2f-ac40-eee26da38908"
      },
      "execution_count": null,
      "outputs": [
        {
          "output_type": "stream",
          "name": "stdout",
          "text": [
            "🚀 Iniciando o Sistema de Criação de Posts de FAQ para Instagram com 4 Agentes 🚀\n"
          ]
        }
      ]
    }
  ]
}